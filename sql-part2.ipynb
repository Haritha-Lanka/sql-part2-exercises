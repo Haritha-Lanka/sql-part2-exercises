{
    "metadata": {
        "kernelspec": {
            "name": "SQL",
            "display_name": "SQL",
            "language": "sql"
        },
        "language_info": {
            "name": "sql",
            "version": ""
        }
    },
    "nbformat_minor": 2,
    "nbformat": 4,
    "cells": [
        {
            "cell_type": "markdown",
            "source": [
                "# Exercises\n",
                "\n",
                "To get started with the exercises, go ahead and take a look at RideShareDB. This database was created with data from a dataset on [Kaggle](https://www.kaggle.com/fivethirtyeight/uber-pickups-in-new-york-city). The dataset was made using data obtained from the NYC Taxi and Limosine Commission or TLC. TLC tracks this data by base and even rideshare companies such as Uber and Lyft have assigned bases that each pickup must be attributed to. For the exercises, we will be using the `other-FHV-services-jan-july15` and `lyft` tables in RideShareDB. These tables include the data for each pickup attributed to a few other For-Hire Vehicles (FHV) services and Lyft. These tables do not include any data from Uber.\n",
                "\n",
                "## String Functions\n",
                "\n",
                "Write a query that returns the last 3 characters of the base name in `other-FHV-services-jan-july15`. Do you see anything that is a common abbreviation at the end of business names?"
            ],
            "metadata": {
                "azdata_cell_guid": "2b5a5976-8b51-4e24-a08d-234ef97f379a"
            },
            "attachments": {}
        },
        {
            "cell_type": "code",
            "source": [
                "select top 10 RIGHT(Base_Name,3) from \r\n",
                "RideShareDB.dbo.other_FHV_services_jan_aug_2015\r\n",
                ""
            ],
            "metadata": {
                "azdata_cell_guid": "392f7b72-9acf-44a4-bb53-6c29090c5d75",
                "tags": [],
                "language": "sql"
            },
            "outputs": [
                {
                    "output_type": "display_data",
                    "data": {
                        "text/html": "(10 rows affected)"
                    },
                    "metadata": {}
                },
                {
                    "output_type": "display_data",
                    "data": {
                        "text/html": "Total execution time: 00:00:00.088"
                    },
                    "metadata": {}
                },
                {
                    "output_type": "execute_result",
                    "metadata": {},
                    "execution_count": 1,
                    "data": {
                        "application/vnd.dataresource+json": {
                            "schema": {
                                "fields": [
                                    {
                                        "name": "(No column name)"
                                    }
                                ]
                            },
                            "data": [
                                {
                                    "(No column name)": "INC"
                                },
                                {
                                    "(No column name)": "INC"
                                },
                                {
                                    "(No column name)": "ORP"
                                },
                                {
                                    "(No column name)": "INC"
                                },
                                {
                                    "(No column name)": "NC."
                                },
                                {
                                    "(No column name)": "INC"
                                },
                                {
                                    "(No column name)": "NC."
                                },
                                {
                                    "(No column name)": "NC."
                                },
                                {
                                    "(No column name)": "DIO"
                                },
                                {
                                    "(No column name)": "RP."
                                }
                            ]
                        },
                        "text/html": [
                            "<table>",
                            "<tr><th>(No column name)</th></tr>",
                            "<tr><td>INC</td></tr>",
                            "<tr><td>INC</td></tr>",
                            "<tr><td>ORP</td></tr>",
                            "<tr><td>INC</td></tr>",
                            "<tr><td>NC.</td></tr>",
                            "<tr><td>INC</td></tr>",
                            "<tr><td>NC.</td></tr>",
                            "<tr><td>NC.</td></tr>",
                            "<tr><td>DIO</td></tr>",
                            "<tr><td>RP.</td></tr>",
                            "</table>"
                        ]
                    }
                }
            ],
            "execution_count": 1
        },
        {
            "cell_type": "markdown",
            "source": [
                "The number of trips and the number of pickups are both stored as strings in `other-FHV-services-jan-july15`. This is because the data provided included spaces in some of the numbers. Write a query that returns the location of spaces in both of these columns."
            ],
            "metadata": {
                "azdata_cell_guid": "6c206898-77f4-4357-8d17-33192980f45d"
            },
            "attachments": {}
        },
        {
            "cell_type": "code",
            "source": [
                "--SELECT top 10 Number_of_Trips,Number_of_Vehicles from RideShareDB.dbo.other_FHV_services_jan_aug_2015;\r\n",
                "SELECT Top 10 CHARINDEX(' ',Number_of_Trips) AS 'Index where space is located in Number_of_Trips column',\r\n",
                "CHARINDEX(' ',Number_of_Vehicles) AS 'Index where space is located in Number_of_Vehicles column'\r\n",
                "from  RideShareDB.dbo.other_FHV_services_jan_aug_2015;"
            ],
            "metadata": {
                "azdata_cell_guid": "3c810c3d-4e66-447b-8326-19e59d8a1b88",
                "language": "sql"
            },
            "outputs": [
                {
                    "output_type": "display_data",
                    "data": {
                        "text/html": "(10 rows affected)"
                    },
                    "metadata": {}
                },
                {
                    "output_type": "display_data",
                    "data": {
                        "text/html": "Total execution time: 00:00:00.048"
                    },
                    "metadata": {}
                },
                {
                    "output_type": "execute_result",
                    "metadata": {},
                    "execution_count": 9,
                    "data": {
                        "application/vnd.dataresource+json": {
                            "schema": {
                                "fields": [
                                    {
                                        "name": "Index where space is located in Number_of_Trips column"
                                    },
                                    {
                                        "name": "Index where space is located in Number_of_Vehicles column"
                                    }
                                ]
                            },
                            "data": [
                                {
                                    "Index where space is located in Number_of_Trips column": "3",
                                    "Index where space is located in Number_of_Vehicles column": "3"
                                },
                                {
                                    "Index where space is located in Number_of_Trips column": "3",
                                    "Index where space is located in Number_of_Vehicles column": "3"
                                },
                                {
                                    "Index where space is located in Number_of_Trips column": "4",
                                    "Index where space is located in Number_of_Vehicles column": "3"
                                },
                                {
                                    "Index where space is located in Number_of_Trips column": "3",
                                    "Index where space is located in Number_of_Vehicles column": "2"
                                },
                                {
                                    "Index where space is located in Number_of_Trips column": "4",
                                    "Index where space is located in Number_of_Vehicles column": "3"
                                },
                                {
                                    "Index where space is located in Number_of_Trips column": "4",
                                    "Index where space is located in Number_of_Vehicles column": "3"
                                },
                                {
                                    "Index where space is located in Number_of_Trips column": "3",
                                    "Index where space is located in Number_of_Vehicles column": "3"
                                },
                                {
                                    "Index where space is located in Number_of_Trips column": "1",
                                    "Index where space is located in Number_of_Vehicles column": "4"
                                },
                                {
                                    "Index where space is located in Number_of_Trips column": "4",
                                    "Index where space is located in Number_of_Vehicles column": "4"
                                },
                                {
                                    "Index where space is located in Number_of_Trips column": "3",
                                    "Index where space is located in Number_of_Vehicles column": "3"
                                }
                            ]
                        },
                        "text/html": [
                            "<table>",
                            "<tr><th>Index where space is located in Number_of_Trips column</th><th>Index where space is located in Number_of_Vehicles column</th></tr>",
                            "<tr><td>3</td><td>3</td></tr>",
                            "<tr><td>3</td><td>3</td></tr>",
                            "<tr><td>4</td><td>3</td></tr>",
                            "<tr><td>3</td><td>2</td></tr>",
                            "<tr><td>4</td><td>3</td></tr>",
                            "<tr><td>4</td><td>3</td></tr>",
                            "<tr><td>3</td><td>3</td></tr>",
                            "<tr><td>1</td><td>4</td></tr>",
                            "<tr><td>4</td><td>4</td></tr>",
                            "<tr><td>3</td><td>3</td></tr>",
                            "</table>"
                        ]
                    }
                }
            ],
            "execution_count": 9
        },
        {
            "cell_type": "markdown",
            "source": [
                "## Date Functions\n",
                "\n",
                "For ``other-FHV-services-jan-july15``, display the name of month of the pickup date and order in descending order. Is the result of this query what you expected?"
            ],
            "metadata": {
                "azdata_cell_guid": "b138ac53-9fff-4320-9ff1-08717873f2ee"
            },
            "attachments": {}
        },
        {
            "cell_type": "code",
            "source": [
                "SELECT top 10 Pick_Up_Date, DATENAME(month, Pick_Up_Date) AS 'Month from date' from  RideShareDB.dbo.other_FHV_services_jan_aug_2015 ORDER BY [Month from date] DESC;"
            ],
            "metadata": {
                "azdata_cell_guid": "8abd404c-a360-4b10-8d6b-8b34ef763bc7",
                "tags": [],
                "language": "sql"
            },
            "outputs": [
                {
                    "output_type": "display_data",
                    "data": {
                        "text/html": "(10 rows affected)"
                    },
                    "metadata": {}
                },
                {
                    "output_type": "display_data",
                    "data": {
                        "text/html": "Total execution time: 00:00:00.062"
                    },
                    "metadata": {}
                },
                {
                    "output_type": "execute_result",
                    "metadata": {},
                    "execution_count": 12,
                    "data": {
                        "application/vnd.dataresource+json": {
                            "schema": {
                                "fields": [
                                    {
                                        "name": "Pick_Up_Date"
                                    },
                                    {
                                        "name": "Month from date"
                                    }
                                ]
                            },
                            "data": [
                                {
                                    "Pick_Up_Date": "2015-05-01",
                                    "Month from date": "May"
                                },
                                {
                                    "Pick_Up_Date": "2015-05-01",
                                    "Month from date": "May"
                                },
                                {
                                    "Pick_Up_Date": "2015-05-01",
                                    "Month from date": "May"
                                },
                                {
                                    "Pick_Up_Date": "2015-05-01",
                                    "Month from date": "May"
                                },
                                {
                                    "Pick_Up_Date": "2015-05-01",
                                    "Month from date": "May"
                                },
                                {
                                    "Pick_Up_Date": "2015-05-01",
                                    "Month from date": "May"
                                },
                                {
                                    "Pick_Up_Date": "2015-05-01",
                                    "Month from date": "May"
                                },
                                {
                                    "Pick_Up_Date": "2015-05-01",
                                    "Month from date": "May"
                                },
                                {
                                    "Pick_Up_Date": "2015-05-01",
                                    "Month from date": "May"
                                },
                                {
                                    "Pick_Up_Date": "2015-05-01",
                                    "Month from date": "May"
                                }
                            ]
                        },
                        "text/html": [
                            "<table>",
                            "<tr><th>Pick_Up_Date</th><th>Month from date</th></tr>",
                            "<tr><td>2015-05-01</td><td>May</td></tr>",
                            "<tr><td>2015-05-01</td><td>May</td></tr>",
                            "<tr><td>2015-05-01</td><td>May</td></tr>",
                            "<tr><td>2015-05-01</td><td>May</td></tr>",
                            "<tr><td>2015-05-01</td><td>May</td></tr>",
                            "<tr><td>2015-05-01</td><td>May</td></tr>",
                            "<tr><td>2015-05-01</td><td>May</td></tr>",
                            "<tr><td>2015-05-01</td><td>May</td></tr>",
                            "<tr><td>2015-05-01</td><td>May</td></tr>",
                            "<tr><td>2015-05-01</td><td>May</td></tr>",
                            "</table>"
                        ]
                    }
                }
            ],
            "execution_count": 12
        },
        {
            "cell_type": "markdown",
            "source": [
                "Using `other-FHV-services-jan-july15`, write a query that returns the day number of the pickup date and month name and orders it in ascending order by day number."
            ],
            "metadata": {
                "azdata_cell_guid": "aa6bf15c-b847-45f0-ba0d-79c7636c4578"
            },
            "attachments": {}
        },
        {
            "cell_type": "code",
            "source": [
                "select top 10 Pick_Up_Date, DATENAME(DAY,Pick_Up_Date) AS 'Day number of date', DATENAME(month,Pick_Up_Date) AS 'month of date'\r\n",
                "from RideShareDB.dbo.other_FHV_services_jan_aug_2015\r\n",
                "ORDER by [Day number of date] ASC"
            ],
            "metadata": {
                "azdata_cell_guid": "46dcd617-8dcf-4c15-b5fa-c0ec04f2bf29",
                "language": "sql"
            },
            "outputs": [
                {
                    "output_type": "display_data",
                    "data": {
                        "text/html": "(10 rows affected)"
                    },
                    "metadata": {}
                },
                {
                    "output_type": "display_data",
                    "data": {
                        "text/html": "Total execution time: 00:00:00.069"
                    },
                    "metadata": {}
                },
                {
                    "output_type": "execute_result",
                    "metadata": {},
                    "execution_count": 14,
                    "data": {
                        "application/vnd.dataresource+json": {
                            "schema": {
                                "fields": [
                                    {
                                        "name": "Pick_Up_Date"
                                    },
                                    {
                                        "name": "Day number of date"
                                    },
                                    {
                                        "name": "month of date"
                                    }
                                ]
                            },
                            "data": [
                                {
                                    "Pick_Up_Date": "2015-01-01",
                                    "Day number of date": "1",
                                    "month of date": "January"
                                },
                                {
                                    "Pick_Up_Date": "2015-01-01",
                                    "Day number of date": "1",
                                    "month of date": "January"
                                },
                                {
                                    "Pick_Up_Date": "2015-01-01",
                                    "Day number of date": "1",
                                    "month of date": "January"
                                },
                                {
                                    "Pick_Up_Date": "2015-01-01",
                                    "Day number of date": "1",
                                    "month of date": "January"
                                },
                                {
                                    "Pick_Up_Date": "2015-01-01",
                                    "Day number of date": "1",
                                    "month of date": "January"
                                },
                                {
                                    "Pick_Up_Date": "2015-01-01",
                                    "Day number of date": "1",
                                    "month of date": "January"
                                },
                                {
                                    "Pick_Up_Date": "2015-01-01",
                                    "Day number of date": "1",
                                    "month of date": "January"
                                },
                                {
                                    "Pick_Up_Date": "2015-01-01",
                                    "Day number of date": "1",
                                    "month of date": "January"
                                },
                                {
                                    "Pick_Up_Date": "2015-01-01",
                                    "Day number of date": "1",
                                    "month of date": "January"
                                },
                                {
                                    "Pick_Up_Date": "2015-01-01",
                                    "Day number of date": "1",
                                    "month of date": "January"
                                }
                            ]
                        },
                        "text/html": [
                            "<table>",
                            "<tr><th>Pick_Up_Date</th><th>Day number of date</th><th>month of date</th></tr>",
                            "<tr><td>2015-01-01</td><td>1</td><td>January</td></tr>",
                            "<tr><td>2015-01-01</td><td>1</td><td>January</td></tr>",
                            "<tr><td>2015-01-01</td><td>1</td><td>January</td></tr>",
                            "<tr><td>2015-01-01</td><td>1</td><td>January</td></tr>",
                            "<tr><td>2015-01-01</td><td>1</td><td>January</td></tr>",
                            "<tr><td>2015-01-01</td><td>1</td><td>January</td></tr>",
                            "<tr><td>2015-01-01</td><td>1</td><td>January</td></tr>",
                            "<tr><td>2015-01-01</td><td>1</td><td>January</td></tr>",
                            "<tr><td>2015-01-01</td><td>1</td><td>January</td></tr>",
                            "<tr><td>2015-01-01</td><td>1</td><td>January</td></tr>",
                            "</table>"
                        ]
                    }
                }
            ],
            "execution_count": 14
        },
        {
            "cell_type": "markdown",
            "source": [
                "## Aggregate Functions\n",
                "\n",
                "Write a query that returns the most easterly Lyft pickup."
            ],
            "metadata": {
                "azdata_cell_guid": "348342a2-6039-43b1-8461-841288deee94"
            },
            "attachments": {}
        },
        {
            "cell_type": "code",
            "source": [
                "SELECT min(start_lng),max(start_lng) as 'Most Easterly Lyft pickup' from RideShareDB.dbo.lyft;"
            ],
            "metadata": {
                "azdata_cell_guid": "f2cb1b41-c92a-47ea-bd77-7bafd78af1d4",
                "tags": [],
                "language": "sql"
            },
            "outputs": [
                {
                    "output_type": "display_data",
                    "data": {
                        "text/html": "Warning: Null value is eliminated by an aggregate or other SET operation."
                    },
                    "metadata": {}
                },
                {
                    "output_type": "display_data",
                    "data": {
                        "text/html": "(1 row affected)"
                    },
                    "metadata": {}
                },
                {
                    "output_type": "display_data",
                    "data": {
                        "text/html": "Total execution time: 00:00:00.078"
                    },
                    "metadata": {}
                },
                {
                    "output_type": "execute_result",
                    "metadata": {},
                    "execution_count": 20,
                    "data": {
                        "application/vnd.dataresource+json": {
                            "schema": {
                                "fields": [
                                    {
                                        "name": "(No column name)"
                                    },
                                    {
                                        "name": "Most Easterly Lyft pickup"
                                    }
                                ]
                            },
                            "data": [
                                {
                                    "(No column name)": "-74.22689",
                                    "Most Easterly Lyft pickup": "-73.72315"
                                }
                            ]
                        },
                        "text/html": [
                            "<table>",
                            "<tr><th>(No column name)</th><th>Most Easterly Lyft pickup</th></tr>",
                            "<tr><td>-74.22689</td><td>-73.72315</td></tr>",
                            "</table>"
                        ]
                    }
                }
            ],
            "execution_count": 20
        },
        {
            "cell_type": "markdown",
            "source": [
                "Write a query the returns the most northerly Lyft pickup."
            ],
            "metadata": {
                "azdata_cell_guid": "bd589862-044d-4909-8565-8aa4771d9c00"
            },
            "attachments": {}
        },
        {
            "cell_type": "code",
            "source": [
                "SELECT min(start_lat),max(start_lat) from RideShareDB.dbo.lyft"
            ],
            "metadata": {
                "azdata_cell_guid": "189b7c25-0dfa-4ca0-a683-d402b3875abd",
                "language": "sql"
            },
            "outputs": [
                {
                    "output_type": "display_data",
                    "data": {
                        "text/html": "Warning: Null value is eliminated by an aggregate or other SET operation."
                    },
                    "metadata": {}
                },
                {
                    "output_type": "display_data",
                    "data": {
                        "text/html": "(1 row affected)"
                    },
                    "metadata": {}
                },
                {
                    "output_type": "display_data",
                    "data": {
                        "text/html": "Total execution time: 00:00:00.076"
                    },
                    "metadata": {}
                },
                {
                    "output_type": "execute_result",
                    "metadata": {},
                    "execution_count": 21,
                    "data": {
                        "application/vnd.dataresource+json": {
                            "schema": {
                                "fields": [
                                    {
                                        "name": "(No column name)"
                                    },
                                    {
                                        "name": "(No column name)"
                                    }
                                ]
                            },
                            "data": [
                                {
                                    "(No column name)": "40.93562"
                                }
                            ]
                        },
                        "text/html": [
                            "<table>",
                            "<tr><th>(No column name)</th><th>(No column name)</th></tr>",
                            "<tr><td>40.52785</td><td>40.93562</td></tr>",
                            "</table>"
                        ]
                    }
                }
            ],
            "execution_count": 21
        },
        {
            "cell_type": "markdown",
            "source": [
                "Using ``other-FHV-services-jan-july15``, write a query that connects the the base number and the base name in a string that uses the following format: base\\_number: base\\_name."
            ],
            "metadata": {
                "azdata_cell_guid": "674f8758-14bf-4712-b029-0ad0447617fb"
            },
            "attachments": {}
        },
        {
            "cell_type": "code",
            "source": [
                "SELECT top 5 * from RideShareDB.dbo.other_FHV_services_jan_aug_2015\r\n",
                "SELECT top 5 CONCAT_WS(':',Base_Number,Base_Name) AS 'format: base_number: base_name' from RideShareDB.dbo.other_FHV_services_jan_aug_2015;"
            ],
            "metadata": {
                "azdata_cell_guid": "f6f4b247-63c0-4997-8769-204e37a55c08",
                "language": "sql"
            },
            "outputs": [
                {
                    "output_type": "display_data",
                    "data": {
                        "text/html": "(5 rows affected)"
                    },
                    "metadata": {}
                },
                {
                    "output_type": "display_data",
                    "data": {
                        "text/html": "(5 rows affected)"
                    },
                    "metadata": {}
                },
                {
                    "output_type": "display_data",
                    "data": {
                        "text/html": "Total execution time: 00:00:00.047"
                    },
                    "metadata": {}
                },
                {
                    "output_type": "execute_result",
                    "metadata": {},
                    "execution_count": 24,
                    "data": {
                        "application/vnd.dataresource+json": {
                            "schema": {
                                "fields": [
                                    {
                                        "name": "Base_Number"
                                    },
                                    {
                                        "name": "Base_Name"
                                    },
                                    {
                                        "name": "Pick_Up_Date"
                                    },
                                    {
                                        "name": "Number_of_Trips"
                                    },
                                    {
                                        "name": "Number_of_Vehicles"
                                    }
                                ]
                            },
                            "data": [
                                {
                                    "Base_Number": "B00013",
                                    "Base_Name": "LOVE CORP CAR INC",
                                    "Pick_Up_Date": "2015-01-01",
                                    "Number_of_Trips": "26 ",
                                    "Number_of_Vehicles": "17 "
                                },
                                {
                                    "Base_Number": "B00014",
                                    "Base_Name": "NY ONE CORP CAR INC",
                                    "Pick_Up_Date": "2015-01-01",
                                    "Number_of_Trips": "45 ",
                                    "Number_of_Vehicles": "24 "
                                },
                                {
                                    "Base_Number": "B00029",
                                    "Base_Name": "COMMUNITY CAR SVC CORP",
                                    "Pick_Up_Date": "2015-01-01",
                                    "Number_of_Trips": "731 ",
                                    "Number_of_Vehicles": "36 "
                                },
                                {
                                    "Base_Number": "B00053",
                                    "Base_Name": "CHARGE AND RIDE INC",
                                    "Pick_Up_Date": "2015-01-01",
                                    "Number_of_Trips": "10 ",
                                    "Number_of_Vehicles": "9 "
                                },
                                {
                                    "Base_Number": "B00095",
                                    "Base_Name": "LIBERTY CAR SERVICE INC.",
                                    "Pick_Up_Date": "2015-01-01",
                                    "Number_of_Trips": "814 ",
                                    "Number_of_Vehicles": "62 "
                                }
                            ]
                        },
                        "text/html": [
                            "<table>",
                            "<tr><th>Base_Number</th><th>Base_Name</th><th>Pick_Up_Date</th><th>Number_of_Trips</th><th>Number_of_Vehicles</th></tr>",
                            "<tr><td>B00013</td><td>LOVE CORP CAR INC</td><td>2015-01-01</td><td>26 </td><td>17 </td></tr>",
                            "<tr><td>B00014</td><td>NY ONE CORP CAR INC</td><td>2015-01-01</td><td>45 </td><td>24 </td></tr>",
                            "<tr><td>B00029</td><td>COMMUNITY CAR SVC CORP</td><td>2015-01-01</td><td>731 </td><td>36 </td></tr>",
                            "<tr><td>B00053</td><td>CHARGE AND RIDE INC</td><td>2015-01-01</td><td>10 </td><td>9 </td></tr>",
                            "<tr><td>B00095</td><td>LIBERTY CAR SERVICE INC.</td><td>2015-01-01</td><td>814 </td><td>62 </td></tr>",
                            "</table>"
                        ]
                    }
                },
                {
                    "output_type": "execute_result",
                    "metadata": {},
                    "execution_count": 24,
                    "data": {
                        "application/vnd.dataresource+json": {
                            "schema": {
                                "fields": [
                                    {
                                        "name": "format: base_number: base_name"
                                    }
                                ]
                            },
                            "data": [
                                {
                                    "format: base_number: base_name": "B00013:LOVE CORP CAR INC"
                                },
                                {
                                    "format: base_number: base_name": "B00014:NY ONE CORP CAR INC"
                                },
                                {
                                    "format: base_number: base_name": "B00029:COMMUNITY CAR SVC CORP"
                                },
                                {
                                    "format: base_number: base_name": "B00053:CHARGE AND RIDE INC"
                                },
                                {
                                    "format: base_number: base_name": "B00095:LIBERTY CAR SERVICE INC."
                                }
                            ]
                        },
                        "text/html": [
                            "<table>",
                            "<tr><th>format: base_number: base_name</th></tr>",
                            "<tr><td>B00013:LOVE CORP CAR INC</td></tr>",
                            "<tr><td>B00014:NY ONE CORP CAR INC</td></tr>",
                            "<tr><td>B00029:COMMUNITY CAR SVC CORP</td></tr>",
                            "<tr><td>B00053:CHARGE AND RIDE INC</td></tr>",
                            "<tr><td>B00095:LIBERTY CAR SERVICE INC.</td></tr>",
                            "</table>"
                        ]
                    }
                }
            ],
            "execution_count": 24
        }
    ]
}